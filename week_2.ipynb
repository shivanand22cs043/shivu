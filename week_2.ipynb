{
  "nbformat": 4,
  "nbformat_minor": 0,
  "metadata": {
    "colab": {
      "provenance": [],
      "authorship_tag": "ABX9TyO0FRVxGwWwtM/JsVP/SCCY",
      "include_colab_link": true
    },
    "kernelspec": {
      "name": "python3",
      "display_name": "Python 3"
    },
    "language_info": {
      "name": "python"
    }
  },
  "cells": [
    {
      "cell_type": "markdown",
      "metadata": {
        "id": "view-in-github",
        "colab_type": "text"
      },
      "source": [
        "<a href=\"https://colab.research.google.com/github/shivanand22cs043/shivu/blob/main/week_2.ipynb\" target=\"_parent\"><img src=\"https://colab.research.google.com/assets/colab-badge.svg\" alt=\"Open In Colab\"/></a>"
      ]
    },
    {
      "cell_type": "code",
      "execution_count": null,
      "metadata": {
        "colab": {
          "base_uri": "https://localhost:8080/"
        },
        "id": "kbEIrWOYyYxm",
        "outputId": "9b23628d-c8f4-4546-ca4f-c5c4089606ed"
      },
      "outputs": [
        {
          "output_type": "stream",
          "name": "stdout",
          "text": [
            "<class 'numpy.ndarray'>\n"
          ]
        },
        {
          "output_type": "execute_result",
          "data": {
            "text/plain": [
              "array([1., 4., 5., 8.])"
            ]
          },
          "metadata": {},
          "execution_count": 1
        }
      ],
      "source": [
        "import numpy as np\n",
        "a = np.array([1, 4, 5, 8], float)\n",
        "print(type(a))\n",
        "a"
      ]
    },
    {
      "cell_type": "code",
      "source": [
        "a[:2]\n",
        "print(a[1:3])"
      ],
      "metadata": {
        "colab": {
          "base_uri": "https://localhost:8080/"
        },
        "id": "L9MGJChJz-C1",
        "outputId": "e898482c-f49a-451f-e64f-6195e3eefffa"
      },
      "execution_count": null,
      "outputs": [
        {
          "output_type": "stream",
          "name": "stdout",
          "text": [
            "[4. 5.]\n"
          ]
        }
      ]
    },
    {
      "cell_type": "code",
      "source": [
        "a[0] = 5.\n",
        "a"
      ],
      "metadata": {
        "colab": {
          "base_uri": "https://localhost:8080/"
        },
        "id": "gGvG-1Dpz-IM",
        "outputId": "d4b402e5-b30b-4928-fa6a-dbf212f97ddb"
      },
      "execution_count": null,
      "outputs": [
        {
          "output_type": "execute_result",
          "data": {
            "text/plain": [
              "array([5., 4., 5., 8.])"
            ]
          },
          "metadata": {},
          "execution_count": 3
        }
      ]
    },
    {
      "cell_type": "code",
      "source": [
        "a = np.array([[1, 2, 3], [4, 5, 6]], float)\n",
        "\n",
        "print(a[0,0])\n",
        "print(a[0,1])\n",
        "a"
      ],
      "metadata": {
        "colab": {
          "base_uri": "https://localhost:8080/"
        },
        "id": "onDX-L6Qz-Rl",
        "outputId": "45842105-fcf3-4868-a5e7-f614bbf3891d"
      },
      "execution_count": null,
      "outputs": [
        {
          "output_type": "stream",
          "name": "stdout",
          "text": [
            "1.0\n",
            "2.0\n"
          ]
        },
        {
          "output_type": "execute_result",
          "data": {
            "text/plain": [
              "array([[1., 2., 3.],\n",
              "       [4., 5., 6.]])"
            ]
          },
          "metadata": {},
          "execution_count": 4
        }
      ]
    },
    {
      "cell_type": "code",
      "source": [
        "#print(a[1,0:2])\n",
        "print(a[1,1])\n",
        "print(a[:,2])\n",
        "\n",
        "print(a[-1:,-1:])"
      ],
      "metadata": {
        "colab": {
          "base_uri": "https://localhost:8080/"
        },
        "id": "9Wy9RI8Cz-Ul",
        "outputId": "c5e57698-6d1f-4a61-c653-716a29010e95"
      },
      "execution_count": null,
      "outputs": [
        {
          "output_type": "stream",
          "name": "stdout",
          "text": [
            "5.0\n",
            "[3. 6.]\n",
            "[[6.]]\n"
          ]
        }
      ]
    },
    {
      "cell_type": "code",
      "source": [
        "a.shape"
      ],
      "metadata": {
        "colab": {
          "base_uri": "https://localhost:8080/"
        },
        "id": "M2rygntiz-XN",
        "outputId": "7efeb551-820d-4158-f72c-9bd796e8b3f9"
      },
      "execution_count": null,
      "outputs": [
        {
          "output_type": "execute_result",
          "data": {
            "text/plain": [
              "(2, 3)"
            ]
          },
          "metadata": {},
          "execution_count": 6
        }
      ]
    },
    {
      "cell_type": "code",
      "source": [
        "a.dtype"
      ],
      "metadata": {
        "colab": {
          "base_uri": "https://localhost:8080/"
        },
        "id": "b1V_Vt0yz-ee",
        "outputId": "5a539724-8561-4a45-b4a5-2ac3e95f877f"
      },
      "execution_count": null,
      "outputs": [
        {
          "output_type": "execute_result",
          "data": {
            "text/plain": [
              "dtype('float64')"
            ]
          },
          "metadata": {},
          "execution_count": 7
        }
      ]
    },
    {
      "cell_type": "code",
      "source": [
        "len(a)"
      ],
      "metadata": {
        "colab": {
          "base_uri": "https://localhost:8080/"
        },
        "id": "NlATwraYz-hV",
        "outputId": "a7291cf5-9366-4786-98ea-edd00ba24f90"
      },
      "execution_count": null,
      "outputs": [
        {
          "output_type": "execute_result",
          "data": {
            "text/plain": [
              "2"
            ]
          },
          "metadata": {},
          "execution_count": 8
        }
      ]
    },
    {
      "cell_type": "code",
      "source": [
        "a = np.array([[1, 2, 3], [4, 5, 6]], float)\n",
        "print(2 in a)\n",
        "print(0 in a)"
      ],
      "metadata": {
        "colab": {
          "base_uri": "https://localhost:8080/"
        },
        "id": "dnSTbBGA0Qg2",
        "outputId": "c88e4600-5df5-4708-dd65-240fc9048685"
      },
      "execution_count": null,
      "outputs": [
        {
          "output_type": "stream",
          "name": "stdout",
          "text": [
            "True\n",
            "False\n"
          ]
        }
      ]
    },
    {
      "cell_type": "code",
      "source": [
        "a = np.array(range(10), float)\n",
        "print(a)\n",
        "b = a.reshape((5, 2))\n",
        "print(b)"
      ],
      "metadata": {
        "colab": {
          "base_uri": "https://localhost:8080/"
        },
        "id": "U-vS0hOC0Qjw",
        "outputId": "d8d9b6ff-151b-4065-841e-92ab4e8a5f9a"
      },
      "execution_count": null,
      "outputs": [
        {
          "output_type": "stream",
          "name": "stdout",
          "text": [
            "[0. 1. 2. 3. 4. 5. 6. 7. 8. 9.]\n",
            "[[0. 1.]\n",
            " [2. 3.]\n",
            " [4. 5.]\n",
            " [6. 7.]\n",
            " [8. 9.]]\n"
          ]
        }
      ]
    },
    {
      "cell_type": "code",
      "source": [
        "a = np.array([1, 2, 3], float)\n",
        "print(a.tolist())\n",
        "print(list(a))"
      ],
      "metadata": {
        "colab": {
          "base_uri": "https://localhost:8080/"
        },
        "id": "smQYCpdR0Wze",
        "outputId": "0b0bc935-2eb6-4404-b099-2535c8599bc5"
      },
      "execution_count": null,
      "outputs": [
        {
          "output_type": "stream",
          "name": "stdout",
          "text": [
            "[1.0, 2.0, 3.0]\n",
            "[1.0, 2.0, 3.0]\n"
          ]
        }
      ]
    },
    {
      "cell_type": "code",
      "source": [
        "a = np.array([1, 2, 3], float)\n",
        "s = a.tobytes()\n",
        "print(s)\n",
        "print(np.frombuffer(s))"
      ],
      "metadata": {
        "colab": {
          "base_uri": "https://localhost:8080/"
        },
        "id": "Fzrisvzr0W5G",
        "outputId": "1a6e2610-5982-4e94-944f-314faf4f8534"
      },
      "execution_count": null,
      "outputs": [
        {
          "output_type": "stream",
          "name": "stdout",
          "text": [
            "b'\\x00\\x00\\x00\\x00\\x00\\x00\\xf0?\\x00\\x00\\x00\\x00\\x00\\x00\\x00@\\x00\\x00\\x00\\x00\\x00\\x00\\x08@'\n",
            "[1. 2. 3.]\n"
          ]
        }
      ]
    },
    {
      "cell_type": "code",
      "source": [
        "a = np.array(range(6), float).reshape((2, 3))\n",
        "print(a)\n",
        "a.transpose()"
      ],
      "metadata": {
        "colab": {
          "base_uri": "https://localhost:8080/"
        },
        "id": "XM_0iMG20W79",
        "outputId": "4b7e2dc2-1209-4dc0-b254-4412f9812a37"
      },
      "execution_count": null,
      "outputs": [
        {
          "output_type": "stream",
          "name": "stdout",
          "text": [
            "[[0. 1. 2.]\n",
            " [3. 4. 5.]]\n"
          ]
        },
        {
          "output_type": "execute_result",
          "data": {
            "text/plain": [
              "array([[0., 3.],\n",
              "       [1., 4.],\n",
              "       [2., 5.]])"
            ]
          },
          "metadata": {},
          "execution_count": 13
        }
      ]
    },
    {
      "cell_type": "code",
      "source": [
        "a = np.array([1,2], int)\n",
        "b = np.array([3,4,5,6], float)\n",
        "c = np.array([1,8,9], int)\n",
        "np.concatenate((a, b, c))"
      ],
      "metadata": {
        "colab": {
          "base_uri": "https://localhost:8080/"
        },
        "id": "En9zfqs_0W-v",
        "outputId": "2edaf699-674b-49c9-bab8-ca4e3707c873"
      },
      "execution_count": null,
      "outputs": [
        {
          "output_type": "execute_result",
          "data": {
            "text/plain": [
              "array([1., 2., 3., 4., 5., 6., 1., 8., 9.])"
            ]
          },
          "metadata": {},
          "execution_count": 14
        }
      ]
    },
    {
      "cell_type": "code",
      "source": [
        "\n",
        "import numpy as np\n",
        "arr = np.array([1,2,3,4,5])\n",
        "print(\"array with rank 1: \\n\",arr)\n",
        "\n",
        "arr= np.array([[1,2,3],\n",
        "               [4,5,6]])\n",
        "print(\"array with rank 2: \\n\",arr)\n",
        "\n",
        "arr = np.array((1,3,2))\n",
        "print(\"array created using passed tuple: \\n\",arr)"
      ],
      "metadata": {
        "colab": {
          "base_uri": "https://localhost:8080/"
        },
        "id": "SHJenjvD0QmX",
        "outputId": "062ac52f-3964-417c-9940-8401a9e6bb7f"
      },
      "execution_count": null,
      "outputs": [
        {
          "output_type": "stream",
          "name": "stdout",
          "text": [
            "array with rank 1: \n",
            " [1 2 3 4 5]\n",
            "array with rank 2: \n",
            " [[1 2 3]\n",
            " [4 5 6]]\n",
            "array created using passed tuple: \n",
            " [1 3 2]\n"
          ]
        }
      ]
    },
    {
      "cell_type": "code",
      "source": [
        "import numpy as np\n",
        "a=np.array([1,2,3,4,5])\n",
        "print(\"a:\",a)\n",
        "sum=np.sum(a)\n",
        "print(\"sum:\",sum)"
      ],
      "metadata": {
        "colab": {
          "base_uri": "https://localhost:8080/"
        },
        "id": "NXYUovwG0Qrt",
        "outputId": "aafc93db-e503-4e62-f1cf-2f3ecc634716"
      },
      "execution_count": null,
      "outputs": [
        {
          "output_type": "stream",
          "name": "stdout",
          "text": [
            "a: [1 2 3 4 5]\n",
            "sum: 15\n"
          ]
        }
      ]
    },
    {
      "cell_type": "code",
      "source": [
        "x=np.array([[1,2,3],[4,5,6]])\n",
        "np.prod(x)"
      ],
      "metadata": {
        "colab": {
          "base_uri": "https://localhost:8080/"
        },
        "id": "qTpepj7B0rBG",
        "outputId": "b71b6cee-2e96-4c29-8ce9-6cc1340a4acc"
      },
      "execution_count": null,
      "outputs": [
        {
          "output_type": "execute_result",
          "data": {
            "text/plain": [
              "720"
            ]
          },
          "metadata": {},
          "execution_count": 4
        }
      ]
    },
    {
      "cell_type": "code",
      "source": [
        "import numpy as np\n",
        "a=np.array([1,2,3,4,10])\n",
        "print(\"a:\",a)\n",
        "avg=np.average(a)\n",
        "print(\"average:\",avg)"
      ],
      "metadata": {
        "colab": {
          "base_uri": "https://localhost:8080/"
        },
        "id": "qoD43hg10rD2",
        "outputId": "1a3b2c70-71b9-408a-ef68-9d94487a40e5"
      },
      "execution_count": null,
      "outputs": [
        {
          "output_type": "stream",
          "name": "stdout",
          "text": [
            "a: [ 1  2  3  4 10]\n",
            "average: 4.0\n"
          ]
        }
      ]
    },
    {
      "cell_type": "code",
      "source": [
        "import numpy as np\n",
        "a=np.array([1,2,3,4,5])\n",
        "print(\"Array a:\",a)\n",
        "\n",
        "mean=np.mean(a)\n",
        "print(\"mean:\",mean)"
      ],
      "metadata": {
        "colab": {
          "base_uri": "https://localhost:8080/"
        },
        "id": "pAKnfWE30rGl",
        "outputId": "15a85e9c-6e4f-4762-a28e-549fa7f3b4ef"
      },
      "execution_count": null,
      "outputs": [
        {
          "output_type": "stream",
          "name": "stdout",
          "text": [
            "Array a: [1 2 3 4 5]\n",
            "mean: 3.0\n"
          ]
        }
      ]
    },
    {
      "cell_type": "code",
      "source": [
        "import numpy as np\n",
        "a=np.array([1,2,3,4,5])\n",
        "print(\"Array a:\",a)\n",
        "\n",
        "minimum=np.min(a)\n",
        "print(\"minimum:\",minimum)"
      ],
      "metadata": {
        "colab": {
          "base_uri": "https://localhost:8080/"
        },
        "id": "JU2yHeaG0rJX",
        "outputId": "ab1c1937-9bb2-41e9-8cf7-2d63b0278b6e"
      },
      "execution_count": null,
      "outputs": [
        {
          "output_type": "stream",
          "name": "stdout",
          "text": [
            "Array a: [1 2 3 4 5]\n",
            "minimum: 1\n"
          ]
        }
      ]
    },
    {
      "cell_type": "code",
      "source": [
        "import numpy as np\n",
        "a=np.array([1,2,3,4,5])\n",
        "print(\"Array a:\",a)\n",
        "\n",
        "maximum=np.max(a)\n",
        "print(\"maximum:\",maximum)"
      ],
      "metadata": {
        "colab": {
          "base_uri": "https://localhost:8080/"
        },
        "id": "EvU4WgeV0rMH",
        "outputId": "4ea200aa-7d09-44cd-e449-9e440e00dcf4"
      },
      "execution_count": null,
      "outputs": [
        {
          "output_type": "stream",
          "name": "stdout",
          "text": [
            "Array a: [1 2 3 4 5]\n",
            "maximum: 5\n"
          ]
        }
      ]
    },
    {
      "cell_type": "code",
      "source": [
        "import numpy as np\n",
        "a=np.array([1,2,3,4,5])\n",
        "print(\"Array a:\",a)\n",
        "\n",
        "standard_deviation=np.std(a)\n",
        "print(\"standard deviation:\",standard_deviation)"
      ],
      "metadata": {
        "colab": {
          "base_uri": "https://localhost:8080/"
        },
        "id": "y_PJcdH30rOv",
        "outputId": "9eeba5d4-5109-4f0d-9d67-0bd72fbae84a"
      },
      "execution_count": null,
      "outputs": [
        {
          "output_type": "stream",
          "name": "stdout",
          "text": [
            "Array a: [1 2 3 4 5]\n",
            "standard deviation: 1.4142135623730951\n"
          ]
        }
      ]
    },
    {
      "cell_type": "code",
      "source": [
        "import numpy as np\n",
        "import timeit\n",
        "\n",
        "print(np.sum(np.arange(4)))\n",
        "\n",
        "print(\"time taken by vectorized sum:\",end=\"\")\n",
        "%timeit np.sum(np.arange(4))\n",
        "\n",
        "total=0\n",
        "for item in range(0,4):\n",
        "  total +=item\n",
        "a=total\n",
        "print(\"\\n\"+str(a))\n",
        "\n",
        "print(\"time taken by iterative sum:\",end=\"\")\n",
        "%timeit a"
      ],
      "metadata": {
        "colab": {
          "base_uri": "https://localhost:8080/"
        },
        "id": "ukEMm5AC07cl",
        "outputId": "615e67c3-a992-4d61-a4b8-f95848eb60b6"
      },
      "execution_count": null,
      "outputs": [
        {
          "output_type": "stream",
          "name": "stdout",
          "text": [
            "6\n",
            "time taken by vectorized sum:15.1 µs ± 3.68 µs per loop (mean ± std. dev. of 7 runs, 10000 loops each)\n",
            "\n",
            "6\n",
            "time taken by iterative sum:29.9 ns ± 0.806 ns per loop (mean ± std. dev. of 7 runs, 10000000 loops each)\n"
          ]
        }
      ]
    },
    {
      "cell_type": "code",
      "source": [
        "import numpy as np\n",
        "np.num=[3,2,1,4]\n",
        "np.num1=[1,2,3,4]\n",
        "print(\"production operation using vectorization:\",np.prod(np.num))\n",
        "print(\"square root operation using vectorization:\",np.sqrt(np.num[3]))\n",
        "print(\"module operation using vectorization:\",np.mod(np.num,np.num1))\n",
        "print(\"mean operation using vectorization:\",np.mean(np.num))\n",
        "print(\"median operation using vectorization:\",np.median(np.num))\n",
        "print(\"minimum operation using vectorization:\",np.min(np.num))\n",
        "print(\"maximum operation using vectorization:\",np.max(np.num))"
      ],
      "metadata": {
        "colab": {
          "base_uri": "https://localhost:8080/"
        },
        "id": "2pyWPQJi07fn",
        "outputId": "52ad2a85-aec5-4468-aae0-cad53a8d8590"
      },
      "execution_count": null,
      "outputs": [
        {
          "output_type": "stream",
          "name": "stdout",
          "text": [
            "production operation using vectorization: 24\n",
            "square root operation using vectorization: 2.0\n",
            "module operation using vectorization: [0 0 1 0]\n",
            "mean operation using vectorization: 2.5\n",
            "median operation using vectorization: 2.5\n",
            "minimum operation using vectorization: 1\n",
            "maximum operation using vectorization: 4\n"
          ]
        }
      ]
    },
    {
      "cell_type": "code",
      "source": [
        "x = lambda a : a + 1\n",
        "print(x(5))"
      ],
      "metadata": {
        "colab": {
          "base_uri": "https://localhost:8080/"
        },
        "id": "1YZg_GBl07im",
        "outputId": "3c2f4ee1-45db-4468-e2a6-2409c8cabdbc"
      },
      "execution_count": null,
      "outputs": [
        {
          "output_type": "stream",
          "name": "stdout",
          "text": [
            "6\n"
          ]
        }
      ]
    },
    {
      "cell_type": "code",
      "source": [
        "x = lambda a, b, c : a + b + c\n",
        "print(x(5, 6, 2))"
      ],
      "metadata": {
        "colab": {
          "base_uri": "https://localhost:8080/"
        },
        "id": "ECQ6bsN207lo",
        "outputId": "69a7d13b-8e33-417c-eb7c-661df4238785"
      },
      "execution_count": null,
      "outputs": [
        {
          "output_type": "stream",
          "name": "stdout",
          "text": [
            "13\n"
          ]
        }
      ]
    },
    {
      "cell_type": "code",
      "source": [
        "lst = [1,2,3.4,5]\n",
        "print(list(map(lambda x:x*10,lst)))"
      ],
      "metadata": {
        "colab": {
          "base_uri": "https://localhost:8080/"
        },
        "id": "VeX_mRM81J41",
        "outputId": "540e9757-da3a-4e87-aaeb-0b321d615b3a"
      },
      "execution_count": null,
      "outputs": [
        {
          "output_type": "stream",
          "name": "stdout",
          "text": [
            "[10, 20, 34.0, 50]\n"
          ]
        }
      ]
    },
    {
      "cell_type": "code",
      "source": [
        "from functools import reduce\n",
        "lst = [1,2,3,4,5]\n",
        "print(reduce(lambda x,y:x+y,lst))\n"
      ],
      "metadata": {
        "colab": {
          "base_uri": "https://localhost:8080/"
        },
        "id": "sDdrgVT01J7o",
        "outputId": "4ca64945-89d3-47b5-c979-e4506bc49551"
      },
      "execution_count": null,
      "outputs": [
        {
          "output_type": "stream",
          "name": "stdout",
          "text": [
            "15\n"
          ]
        }
      ]
    },
    {
      "cell_type": "code",
      "source": [
        "import numpy as np\n",
        "from operator import add\n",
        "from functools import reduce\n",
        "\n",
        "np.num=[2,3,6,9,10]\n",
        "sq=list(map(lambda square: (square ** 2),np.num))\n",
        "print(\"using map function\",sq)\n",
        "\n",
        "even=list(filter(lambda x:x%2==0,np.num))\n",
        "print(\"using filter function\",even)\n",
        "\n",
        "re=reduce(add,np.num)\n",
        "print(\"using reduce function\",re)"
      ],
      "metadata": {
        "colab": {
          "base_uri": "https://localhost:8080/"
        },
        "id": "4MbCd6iz1J-l",
        "outputId": "ebebeae1-de6d-47c1-debb-8a8b0f9c89a1"
      },
      "execution_count": null,
      "outputs": [
        {
          "output_type": "stream",
          "name": "stdout",
          "text": [
            "using map function [4, 9, 36, 81, 100]\n",
            "using filter function [2, 6, 10]\n",
            "using reduce function 30\n"
          ]
        }
      ]
    },
    {
      "cell_type": "code",
      "source": [
        "lst=[53,3,22,2,11,31]\n",
        "print(list(filter(lambda x:x>10,lst)))"
      ],
      "metadata": {
        "colab": {
          "base_uri": "https://localhost:8080/"
        },
        "id": "g7vm_cPj1KBt",
        "outputId": "37d4c68c-df29-4132-f197-4a84c8844756"
      },
      "execution_count": null,
      "outputs": [
        {
          "output_type": "stream",
          "name": "stdout",
          "text": [
            "[53, 22, 11, 31]\n"
          ]
        }
      ]
    },
    {
      "cell_type": "code",
      "source": [
        "import pandas as pd\n",
        "ds1=pd.Series([2,4,8,10])\n",
        "ds2=pd.Series([1,3,7,9])\n",
        "print(\"multiplytwo series:\")\n",
        "ds=ds1*ds2\n",
        "print(ds)\n",
        "print(\"divided Series1 by Series2:\")\n",
        "ds=ds1/ds2\n",
        "print(ds)"
      ],
      "metadata": {
        "colab": {
          "base_uri": "https://localhost:8080/"
        },
        "id": "aLsIsyKZ1KGt",
        "outputId": "5cc539e4-bd5b-4ed5-ff9f-443e152a7d01"
      },
      "execution_count": null,
      "outputs": [
        {
          "output_type": "stream",
          "name": "stdout",
          "text": [
            "multiplytwo series:\n",
            "0     2\n",
            "1    12\n",
            "2    56\n",
            "3    90\n",
            "dtype: int64\n",
            "divided Series1 by Series2:\n",
            "0    2.000000\n",
            "1    1.333333\n",
            "2    1.142857\n",
            "3    1.111111\n",
            "dtype: float64\n"
          ]
        }
      ]
    },
    {
      "cell_type": "code",
      "source": [
        "import pandas as pd\n",
        "d1={'a':100,'b':200,'c':300}\n",
        "print(\"original dictionary\")\n",
        "print(d1)\n",
        "new_series=pd.Series(d1)\n",
        "print(\"converted series\")\n",
        "print(new_series)"
      ],
      "metadata": {
        "colab": {
          "base_uri": "https://localhost:8080/"
        },
        "id": "fvMLqNaD1aN9",
        "outputId": "601de443-8871-447e-8330-ddea50b152d1"
      },
      "execution_count": null,
      "outputs": [
        {
          "output_type": "stream",
          "name": "stdout",
          "text": [
            "original dictionary\n",
            "{'a': 100, 'b': 200, 'c': 300}\n",
            "converted series\n",
            "a    100\n",
            "b    200\n",
            "c    300\n",
            "dtype: int64\n"
          ]
        }
      ]
    },
    {
      "cell_type": "code",
      "source": [
        "import pandas as pd\n",
        "s=pd.Series([400,300.12,100,200])\n",
        "print(\"original series\")\n",
        "print(s)\n",
        "new_s=pd.Series(s).sort_values()\n",
        "print(new_s)"
      ],
      "metadata": {
        "colab": {
          "base_uri": "https://localhost:8080/"
        },
        "id": "C7oAp_mM1aQu",
        "outputId": "4ecb48f8-7d20-4275-afe4-b90d5b76852a"
      },
      "execution_count": null,
      "outputs": [
        {
          "output_type": "stream",
          "name": "stdout",
          "text": [
            "original series\n",
            "0    400.00\n",
            "1    300.12\n",
            "2    100.00\n",
            "3    200.00\n",
            "dtype: float64\n",
            "2    100.00\n",
            "3    200.00\n",
            "1    300.12\n",
            "0    400.00\n",
            "dtype: float64\n"
          ]
        }
      ]
    },
    {
      "cell_type": "code",
      "source": [
        "import pandas as pd\n",
        "s=pd.Series(data=[1,2,3],index=['A','B','C'])\n",
        "print(\"original series\")\n",
        "print(s)\n",
        "s=s.reindex(index=['B','A','C'])\n",
        "print(\"Data series after changing the order of index:\")\n",
        "print(s)"
      ],
      "metadata": {
        "colab": {
          "base_uri": "https://localhost:8080/"
        },
        "id": "9F5ZkCy31aTg",
        "outputId": "539fbe3d-1d5a-4049-99f2-d73a050f17f8"
      },
      "execution_count": null,
      "outputs": [
        {
          "output_type": "stream",
          "name": "stdout",
          "text": [
            "original series\n",
            "A    1\n",
            "B    2\n",
            "C    3\n",
            "dtype: int64\n",
            "Data series after changing the order of index:\n",
            "B    2\n",
            "A    1\n",
            "C    3\n",
            "dtype: int64\n"
          ]
        }
      ]
    },
    {
      "cell_type": "code",
      "source": [
        "import pandas as pd\n",
        "import numpy as np\n",
        "sr1=pd.Series([1,2,3])\n",
        "sr2=pd.Series([2,3,6])\n",
        "print(\"original Series:\")\n",
        "print(\"sr1\")\n",
        "print(sr1)\n",
        "print(\"sr2\")\n",
        "print(sr2)\n",
        "print(\"\\nitems of a given serires not present in another given series:\")\n",
        "sr11=pd.Series(np.union1d(sr1,sr2))\n",
        "sr12=pd.Series(np.intersect1d(sr1,sr2))\n",
        "result=sr11[~sr11.isin(sr12)]\n",
        "print(result)"
      ],
      "metadata": {
        "colab": {
          "base_uri": "https://localhost:8080/"
        },
        "id": "RwWznHQB1aWI",
        "outputId": "6ec2b82a-f043-444f-f46e-f8c516dd631f"
      },
      "execution_count": null,
      "outputs": [
        {
          "output_type": "stream",
          "name": "stdout",
          "text": [
            "original Series:\n",
            "sr1\n",
            "0    1\n",
            "1    2\n",
            "2    3\n",
            "dtype: int64\n",
            "sr2\n",
            "0    2\n",
            "1    3\n",
            "2    6\n",
            "dtype: int64\n",
            "\n",
            "items of a given serires not present in another given series:\n",
            "0    1\n",
            "3    6\n",
            "dtype: int64\n"
          ]
        }
      ]
    },
    {
      "cell_type": "code",
      "source": [
        "import pandas as pd\n",
        "import numpy as np\n",
        "exam_data = {'name': ['Manish', 'Dhiraj'],\n",
        "'score': [12.5, 9]}\n",
        "labels = ['NAME', 'SCORE']\n",
        "df = pd.DataFrame(exam_data , index=labels)\n",
        "print(df)"
      ],
      "metadata": {
        "colab": {
          "base_uri": "https://localhost:8080/"
        },
        "id": "TfeZFB0MLjms",
        "outputId": "ea428b79-dec3-44a4-da75-b70d740e4ba9"
      },
      "execution_count": null,
      "outputs": [
        {
          "output_type": "stream",
          "name": "stdout",
          "text": [
            "         name  score\n",
            "NAME   Manish   12.5\n",
            "SCORE  Dhiraj    9.0\n"
          ]
        }
      ]
    },
    {
      "cell_type": "code",
      "source": [
        "import pandas as pd\n",
        "import numpy as np\n",
        "exam_data = {'name': ['Manish', 'Dhiraj','Man', 'Dhir'],\n",
        "'score': [12.5, 91,2.5, 9]}\n",
        "df = pd.DataFrame(exam_data )\n",
        "print(\"First three rows of the data frame:\")\n",
        "print(df.iloc[:3])"
      ],
      "metadata": {
        "id": "TkUe5eh9NoKq",
        "colab": {
          "base_uri": "https://localhost:8080/"
        },
        "outputId": "8753ddd2-88b1-403b-d0fc-bf79d37facd6"
      },
      "execution_count": null,
      "outputs": [
        {
          "output_type": "stream",
          "name": "stdout",
          "text": [
            "First three rows of the data frame:\n",
            "     name  score\n",
            "0  Manish   12.5\n",
            "1  Dhiraj   91.0\n",
            "2     Man    2.5\n"
          ]
        }
      ]
    },
    {
      "cell_type": "code",
      "source": [
        "import pandas as pd\n",
        "import numpy as np\n",
        "exam_data = {'name': ['Manish', 'Dhiraj','Man', 'Dhir'],\n",
        "'score': [12.5, 91,2.5, 9]}\n",
        "df = pd.DataFrame(exam_data )\n",
        "total_rows=len(df.axes[0])\n",
        "total_cols=len(df.axes[1])\n",
        "print(\"Number of Rows: \"+str(total_rows))\n",
        "print(\"Number of Columns: \"+str(total_cols))"
      ],
      "metadata": {
        "colab": {
          "base_uri": "https://localhost:8080/"
        },
        "id": "ZJ6cEommtBAz",
        "outputId": "fe971cd9-4c3c-4246-be90-b9806788747f"
      },
      "execution_count": null,
      "outputs": [
        {
          "output_type": "stream",
          "name": "stdout",
          "text": [
            "Number of Rows: 4\n",
            "Number of Columns: 2\n"
          ]
        }
      ]
    },
    {
      "cell_type": "code",
      "source": [
        "import pandas as pd\n",
        "import numpy as np\n",
        "exam_data = {'name': ['Manish', 'Dhiraj','Man', 'Dhir'],\n",
        "'score': [12.5, 91,20.5, 19]}\n",
        "df = pd.DataFrame(exam_data )\n",
        "print(\"Rows where score between 15 and 20 (inclusive):\")\n",
        "print(df[df['score'].between(15, 20)])"
      ],
      "metadata": {
        "colab": {
          "base_uri": "https://localhost:8080/"
        },
        "id": "x5VhaucPtGLz",
        "outputId": "77847679-2ff8-4b58-bdbf-4b771363f2b4"
      },
      "execution_count": null,
      "outputs": [
        {
          "output_type": "stream",
          "name": "stdout",
          "text": [
            "Rows where score between 15 and 20 (inclusive):\n",
            "   name  score\n",
            "3  Dhir   19.0\n"
          ]
        }
      ]
    },
    {
      "cell_type": "code",
      "source": [
        "import pandas as pd\n",
        "import numpy as np\n",
        "exam_data = {'name': ['Manish', 'Dhiraj','Man', 'Dhir'],\n",
        "'score': [12.5, 91,20.5, 19]}\n",
        "df = pd.DataFrame(exam_data )\n",
        "result_sort=df.sort_values(by=['name', 'score'], ascending=[True, True])\n",
        "print(\"Sort the data frame first by ‘name’ in descending order, then by ‘score’ in ascending order:\")\n",
        "print(result_sort)"
      ],
      "metadata": {
        "colab": {
          "base_uri": "https://localhost:8080/"
        },
        "id": "0YSwjmm7tMjy",
        "outputId": "525e3c2c-85d7-4c4d-d337-4fdb5312b3db"
      },
      "execution_count": null,
      "outputs": [
        {
          "output_type": "stream",
          "name": "stdout",
          "text": [
            "Sort the data frame first by ‘name’ in descending order, then by ‘score’ in ascending order:\n",
            "     name  score\n",
            "3    Dhir   19.0\n",
            "1  Dhiraj   91.0\n",
            "2     Man   20.5\n",
            "0  Manish   12.5\n"
          ]
        }
      ]
    },
    {
      "cell_type": "code",
      "source": [
        "import pandas as pd\n",
        "import numpy as np\n",
        "exam_data = {'name': ['Manish', 'Dhiraj','Man', 'Dhir'],\n",
        "'score': [12.5, 91,20.5, 19]}\n",
        "df = pd.DataFrame(exam_data )\n",
        "df['name'] = df['name'].replace('Manish', 'Anish')\n",
        "print(df)\n"
      ],
      "metadata": {
        "colab": {
          "base_uri": "https://localhost:8080/"
        },
        "id": "eyU5QkTzteVy",
        "outputId": "57ac6c67-ac55-4a29-f7a5-854a25bd531c"
      },
      "execution_count": null,
      "outputs": [
        {
          "output_type": "stream",
          "name": "stdout",
          "text": [
            "     name  score\n",
            "0   Anish   12.5\n",
            "1  Dhiraj   91.0\n",
            "2     Man   20.5\n",
            "3    Dhir   19.0\n"
          ]
        }
      ]
    },
    {
      "cell_type": "code",
      "source": [
        "import pandas as pd\n",
        "import numpy as np\n",
        "exam_data = {'name': ['Manish', 'Dhiraj','Man', 'Dhir'],\n",
        "'score': [12.5, 91,20.5, 19]}\n",
        "df = pd.DataFrame(exam_data )\n",
        "medium = ['english','hindi','hindi','english']\n",
        "df['medium'] = medium\n",
        "print(\"\\nNew DataFrame after inserting the 'medium' column\")\n",
        "print(df)"
      ],
      "metadata": {
        "colab": {
          "base_uri": "https://localhost:8080/"
        },
        "id": "wkaR0yK9th5T",
        "outputId": "0b7f0bad-34c7-40fc-9088-3b44f04cfc21"
      },
      "execution_count": null,
      "outputs": [
        {
          "output_type": "stream",
          "name": "stdout",
          "text": [
            "\n",
            "New DataFrame after inserting the 'medium' column\n",
            "     name  score   medium\n",
            "0  Manish   12.5  english\n",
            "1  Dhiraj   91.0    hindi\n",
            "2     Man   20.5    hindi\n",
            "3    Dhir   19.0  english\n"
          ]
        }
      ]
    },
    {
      "cell_type": "code",
      "source": [
        "import numpy as np\n",
        "exam_data = {'name': ['sagar', 'rahul','Man', 'Dhir'],\n",
        "'score': [12.5, 91,20.5, 19]}\n",
        "df = pd.DataFrame(exam_data )\n",
        "df = df.rename(columns={'name': 'NAME', 'score': 'SCORE'})\n",
        "print(\"New DataFrame after renaming columns:\")\n",
        "print(df)"
      ],
      "metadata": {
        "colab": {
          "base_uri": "https://localhost:8080/"
        },
        "id": "Ew6I8eWHtnCR",
        "outputId": "29006c72-f05b-4dec-ebe1-93947db990b8"
      },
      "execution_count": null,
      "outputs": [
        {
          "output_type": "stream",
          "name": "stdout",
          "text": [
            "New DataFrame after renaming columns:\n",
            "    NAME  SCORE\n",
            "0  sagar   12.5\n",
            "1  rahul   91.0\n",
            "2    Man   20.5\n",
            "3   Dhir   19.0\n"
          ]
        }
      ]
    },
    {
      "cell_type": "code",
      "source": [
        "import pandas as pd\n",
        "import numpy as np\n",
        "exam_data = {'name': ['rahim', 'venki','Man', 'Dhir'],\n",
        "'score': [12.5, 91,20.5, 19]}\n",
        "df = pd.DataFrame(exam_data )\n",
        "df = df[df.score >= 20]\n",
        "print(\"New DataFrame\")\n",
        "print(df)"
      ],
      "metadata": {
        "colab": {
          "base_uri": "https://localhost:8080/"
        },
        "id": "yMZ0n9mit_I7",
        "outputId": "a2c5da2d-3997-4272-988b-9c8e9b984939"
      },
      "execution_count": null,
      "outputs": [
        {
          "output_type": "stream",
          "name": "stdout",
          "text": [
            "New DataFrame\n",
            "    name  score\n",
            "1  venki   91.0\n",
            "2    Man   20.5\n"
          ]
        }
      ]
    },
    {
      "cell_type": "code",
      "source": [
        "import pandas as pd\n",
        "import numpy as np\n",
        "s1 = pd.Series(['100', '200', '400'])\n",
        "s2 = pd.Series(['10', '20', '40'])\n",
        "print(\"Data Series:\")\n",
        "print(s1)\n",
        "print(s2)\n",
        "df = pd.concat([s1, s2], axis=1)\n",
        "print(\"New DataFrame combining two series:\")\n",
        "print(df)"
      ],
      "metadata": {
        "colab": {
          "base_uri": "https://localhost:8080/"
        },
        "id": "ypprTk2ouG5B",
        "outputId": "b5fa606c-dd87-4e2d-de4b-fb0498cba0a8"
      },
      "execution_count": null,
      "outputs": [
        {
          "output_type": "stream",
          "name": "stdout",
          "text": [
            "Data Series:\n",
            "0    100\n",
            "1    200\n",
            "2    400\n",
            "dtype: object\n",
            "0    10\n",
            "1    20\n",
            "2    40\n",
            "dtype: object\n",
            "New DataFrame combining two series:\n",
            "     0   1\n",
            "0  100  10\n",
            "1  200  20\n",
            "2  400  40\n"
          ]
        }
      ]
    },
    {
      "cell_type": "code",
      "source": [
        "import pandas as pd\n",
        "import numpy as nps1 = pd.Series(['100', '200', '400'])\n",
        "s2 = pd.Series(['10', '20', '40'])\n",
        "df = pd.concat([s1, s2], axis=1)\n",
        "print(\"Value of Row4\")\n",
        "print(df.iloc[2])"
      ],
      "metadata": {
        "id": "5sY-261FuO1Z",
        "outputId": "39fb1cf5-54c2-4aa9-c194-0ce52552cfc7",
        "colab": {
          "base_uri": "https://localhost:8080/"
        }
      },
      "execution_count": null,
      "outputs": [
        {
          "output_type": "stream",
          "name": "stdout",
          "text": [
            "Value of Row4\n",
            "0    400\n",
            "1     40\n",
            "Name: 2, dtype: object\n"
          ]
        }
      ]
    },
    {
      "cell_type": "code",
      "source": [
        "import pandas as pd\n",
        "import numpy as np\n",
        "s1 = pd.Series(['100', '200', '400'])\n",
        "s2 = pd.Series(['10', '20', '40'])\n",
        "df = pd.concat([s1, s2], axis=1)\n",
        "new_col = [1, 2, 3]\n",
        "idx = 0\n",
        "df.insert(loc=idx, column='1', value=new_col)\n",
        "print(\"\\nNew DataFrame\")\n",
        "print(df)"
      ],
      "metadata": {
        "id": "stqN3nyauSKx",
        "outputId": "adbcf802-8716-4054-fe0d-7e1f20552c32",
        "colab": {
          "base_uri": "https://localhost:8080/"
        }
      },
      "execution_count": null,
      "outputs": [
        {
          "output_type": "stream",
          "name": "stdout",
          "text": [
            "\n",
            "New DataFrame\n",
            "   1    0   1\n",
            "0  1  100  10\n",
            "1  2  200  20\n",
            "2  3  400  40\n"
          ]
        }
      ]
    }
  ]
}